{
 "cells": [
  {
   "cell_type": "code",
   "execution_count": 1,
   "metadata": {},
   "outputs": [
    {
     "name": "stdout",
     "output_type": "stream",
     "text": [
      "Python 3.9.7\r\n"
     ]
    }
   ],
   "source": [
    "!python --version"
   ]
  },
  {
   "cell_type": "code",
   "execution_count": 2,
   "metadata": {},
   "outputs": [],
   "source": [
    "%load_ext autoreload                                                                                                                \n",
    "%autoreload 2"
   ]
  },
  {
   "cell_type": "code",
   "execution_count": 3,
   "metadata": {},
   "outputs": [],
   "source": [
    "import logging\n",
    "logging.basicConfig(level=logging.INFO)"
   ]
  },
  {
   "cell_type": "code",
   "execution_count": 4,
   "metadata": {},
   "outputs": [],
   "source": [
    "from smac.scenario.scenario import Scenario\n",
    "# from smac.facade.smac_facade import SMAC\n",
    "from smac.facade.smac_ac_facade import SMAC4AC"
   ]
  },
  {
   "cell_type": "code",
   "execution_count": 5,
   "metadata": {},
   "outputs": [
    {
     "name": "stdout",
     "output_type": "stream",
     "text": [
      "/home/os5222el/ParameterImportance/examples/branin\n"
     ]
    }
   ],
   "source": [
    "cd ../examples/branin"
   ]
  },
  {
   "cell_type": "code",
   "execution_count": 6,
   "metadata": {},
   "outputs": [
    {
     "name": "stderr",
     "output_type": "stream",
     "text": [
      "INFO:smac.scenario.scenario.Scenario:Reading scenario file: branin_scenario.txt\n",
      "INFO:smac.utils.io.cmd_reader.CMDReader:Output to smac3-output_2021-11-10_14:26:34_259331\n",
      "INFO:smac.facade.smac_ac_facade.SMAC4AC:Optimizing a deterministic scenario for quality without a tuner timeout - will make SMAC deterministic and only evaluate one configuration per iteration!\n",
      "INFO:smac.initial_design.default_configuration_design.DefaultConfiguration:Running initial design for 1 configurations\n"
     ]
    }
   ],
   "source": [
    "scenario = Scenario('branin_scenario.txt')\n",
    "smac = SMAC4AC(scenario)"
   ]
  },
  {
   "cell_type": "code",
   "execution_count": 7,
   "metadata": {
    "scrolled": true
   },
   "outputs": [
    {
     "name": "stderr",
     "output_type": "stream",
     "text": [
      "INFO:smac.optimizer.smbo.SMBO:Running initial design\n",
      "INFO:smac.intensification.intensification.Intensifier:First run, no incumbent provided; challenger is assumed to be the incumbent\n",
      "INFO:smac.intensification.intensification.Intensifier:First run, no incumbent provided; challenger is assumed to be the incumbent\n",
      "INFO:smac.intensification.intensification.Intensifier:Updated estimated cost of incumbent on 1 runs: 55.6021\n",
      "INFO:smac.intensification.intensification.Intensifier:Challenger (14.4774) is better than incumbent (55.6021) on 1 runs.\n",
      "INFO:smac.intensification.intensification.Intensifier:Changes in incumbent:\n",
      "INFO:smac.intensification.intensification.Intensifier:  x1 : 0.0 -> 5.119704358460824\n",
      "INFO:smac.intensification.intensification.Intensifier:  x2 : 0.0 -> 2.0585349370439343\n",
      "INFO:smac.intensification.intensification.Intensifier:Challenger (10.4675) is better than incumbent (14.4774) on 1 runs.\n",
      "INFO:smac.intensification.intensification.Intensifier:Changes in incumbent:\n",
      "INFO:smac.intensification.intensification.Intensifier:  x1 : 5.119704358460824 -> -2.9593465299153077\n",
      "INFO:smac.intensification.intensification.Intensifier:  x2 : 2.0585349370439343 -> 14.989417791560651\n",
      "INFO:smac.intensification.intensification.Intensifier:Challenger (6.5558) is better than incumbent (10.4675) on 1 runs.\n",
      "INFO:smac.intensification.intensification.Intensifier:Changes in incumbent:\n",
      "INFO:smac.intensification.intensification.Intensifier:  x1 : -2.9593465299153077 -> 2.106796039299346\n",
      "INFO:smac.intensification.intensification.Intensifier:  x2 : 14.989417791560651 -> 2.0121918598364146\n",
      "INFO:smac.intensification.intensification.Intensifier:Challenger (2.1373) is better than incumbent (6.5558) on 1 runs.\n",
      "INFO:smac.intensification.intensification.Intensifier:Changes in incumbent:\n",
      "INFO:smac.intensification.intensification.Intensifier:  x1 : 2.106796039299346 -> 2.5758809028287732\n",
      "INFO:smac.intensification.intensification.Intensifier:  x2 : 2.0121918598364146 -> 2.264123284626513\n",
      "INFO:smac.intensification.intensification.Intensifier:Challenger (2.0074) is better than incumbent (2.1373) on 1 runs.\n",
      "INFO:smac.intensification.intensification.Intensifier:Changes in incumbent:\n",
      "INFO:smac.intensification.intensification.Intensifier:  x1 : 2.5758809028287732 -> 3.7245393976247314\n",
      "INFO:smac.intensification.intensification.Intensifier:  x2 : 2.264123284626513 -> 2.0181161044246654\n",
      "INFO:smac.intensification.intensification.Intensifier:Challenger (0.9891) is better than incumbent (2.0074) on 1 runs.\n",
      "INFO:smac.intensification.intensification.Intensifier:Changes in incumbent:\n",
      "INFO:smac.intensification.intensification.Intensifier:  x1 : 3.7245393976247314 -> 3.412937065578891\n",
      "INFO:smac.intensification.intensification.Intensifier:  x2 : 2.0181161044246654 -> 1.5831423759296415\n",
      "INFO:smac.intensification.intensification.Intensifier:Challenger (0.6798) is better than incumbent (0.9891) on 1 runs.\n",
      "INFO:smac.intensification.intensification.Intensifier:Changes in incumbent:\n",
      "INFO:smac.intensification.intensification.Intensifier:  x1 : 3.412937065578891 -> 3.3784211400000927\n",
      "INFO:smac.intensification.intensification.Intensifier:  x2 : 1.5831423759296415 -> 1.9795443033011633\n",
      "INFO:smac.intensification.intensification.Intensifier:Challenger (0.4978) is better than incumbent (0.6798) on 1 runs.\n",
      "INFO:smac.intensification.intensification.Intensifier:Changes in incumbent:\n",
      "INFO:smac.intensification.intensification.Intensifier:  x1 : 3.3784211400000927 -> 3.2836240778564036\n",
      "INFO:smac.intensification.intensification.Intensifier:  x2 : 1.9795443033011633 -> 2.1101380988328757\n",
      "INFO:smac.intensification.intensification.Intensifier:Challenger (0.4122) is better than incumbent (0.4978) on 1 runs.\n",
      "INFO:smac.intensification.intensification.Intensifier:Changes in incumbent:\n",
      "INFO:smac.intensification.intensification.Intensifier:  x1 : 3.2836240778564036 -> 3.090506625446203\n",
      "INFO:smac.intensification.intensification.Intensifier:  x2 : 2.1101380988328757 -> 2.273298298838758\n",
      "INFO:smac.stats.stats.Stats:##########################################################\n",
      "INFO:smac.stats.stats.Stats:Statistics:\n",
      "INFO:smac.stats.stats.Stats:#Incumbent changed: 9\n",
      "INFO:smac.stats.stats.Stats:#Submitted target algorithm runs: 500 / 500.0\n",
      "INFO:smac.stats.stats.Stats:#Finished target algorithm runs: 500 / 500.0\n",
      "INFO:smac.stats.stats.Stats:#Configurations: 500\n",
      "INFO:smac.stats.stats.Stats:Used wallclock time: 80.13 / inf sec \n",
      "INFO:smac.stats.stats.Stats:Used target algorithm runtime: -500.00 / inf sec\n",
      "INFO:smac.stats.stats.Stats:##########################################################\n",
      "INFO:smac.facade.smac_ac_facade.SMAC4AC:Final Incumbent: Configuration:\n",
      "  x1, Value: 3.090506625446203\n",
      "  x2, Value: 2.273298298838758\n",
      "\n",
      "INFO:smac.facade.smac_ac_facade.SMAC4AC:Estimated cost of incumbent: 0.412168\n"
     ]
    },
    {
     "data": {
      "text/plain": [
       "Configuration:\n",
       "  x1, Value: 3.090506625446203\n",
       "  x2, Value: 2.273298298838758"
      ]
     },
     "execution_count": 7,
     "metadata": {},
     "output_type": "execute_result"
    }
   ],
   "source": [
    "smac.optimize()"
   ]
  },
  {
   "cell_type": "code",
   "execution_count": 8,
   "metadata": {},
   "outputs": [],
   "source": [
    "from pimp.pimp import PIMP"
   ]
  },
  {
   "cell_type": "code",
   "execution_count": 9,
   "metadata": {
    "scrolled": false
   },
   "outputs": [
    {
     "name": "stderr",
     "output_type": "stream",
     "text": [
      "INFO:pimp.Importance:Combined number of Runhistory data points: 500\n",
      "INFO:pimp.Importance:Number of Configurations: 500\n",
      "INFO:pimp.Importance:Converting Data and constructing Model\n",
      "INFO:pimp.Importance:Using model <pimp.epm.base_epm.RandomForestWithInstances object at 0x7fb668c86ca0>\n",
      "INFO:pimp.Importance:Size of training X: (500, 2)\n",
      "INFO:pimp.Importance:Size of training y: (500, 1)\n",
      "INFO:pimp.Importance:Data was not imputed\n",
      "INFO:pimp.Importance:Thus the size of X might be smaller than the datapoints in the RunHistory\n",
      "INFO:pimp.Importance:Fitting Model\n",
      "INFO:pimp.Importance:Best incumbent found in None\n",
      "INFO:pimp.Importance:Running ablation\n",
      "INFO:pimp.Importance:Setting up Evaluation Method\n",
      "INFO:pimp.Importance:Using model <pimp.epm.base_epm.RandomForestWithInstances object at 0x7fb668c86ca0>\n",
      "INFO:pimp.Importance:X shape (500, 2)\n",
      "INFO:pimp.Ablation:Difference in source and target: 2\n",
      "INFO:pimp.Ablation:Round  1 winner(s): (['x2'], 62.2176)\n",
      "INFO:pimp.Ablation:Round  2 winner(s): (['x1'], 37.7824)\n",
      "INFO:pimp.Ablation:Saved plots as PIMP/ablation[percentage|performance].png\n",
      "INFO:pimp.Importance:Running forward-selection\n",
      "INFO:pimp.Importance:Setting up Evaluation Method\n",
      "INFO:pimp.Importance:Using model <pimp.epm.base_epm.RandomForestWithInstances object at 0x7fb668c86ca0>\n",
      "INFO:pimp.Forward-Selection:Not analyzing feature importance\n"
     ]
    },
    {
     "name": "stdout",
     "output_type": "stream",
     "text": [
      "\n",
      "RANDOM FOREST\n",
      "\n"
     ]
    },
    {
     "name": "stderr",
     "output_type": "stream",
     "text": [
      "None:     inf (OOB):   0%|          | 0/2 [00:00<?, ?it/s]\n",
      "                                        :   0%|          | 0/3 [00:00<?, ?it/s]\u001b[A\n",
      "x1                                      :   0%|          | 0/3 [00:00<?, ?it/s]\u001b[A\n",
      "x2                                      :  33%|###3      | 1/3 [00:00<00:00, 205.32it/s]\u001b[A\n",
      "None: 39.7992 (OOB):   0%|          | 0/2 [00:00<?, ?it/s] 2/3 [00:00<00:00, 218.94it/s]\u001b[AINFO:pimp.Forward-Selection:Best result if None was added -> Early stopping\n",
      "None: 39.7992 (OOB):   0%|          | 0/2 [00:00<?, ?it/s]\n",
      "\n",
      "                                                                                        \u001b[A/home/os5222el/anaconda3/envs/pimp/lib/python3.9/site-packages/PyImp-1.1.5-py3.9.egg/pimp/evaluator/forward_selection.py:186: UserWarning: Attempting to set identical left == right == 0 results in singular transformations; automatically expanding.\n",
      "  ax.set_xlim(0, max_to_plot - 1)\n",
      "INFO:pimp.Forward-Selection:Saved plot as PIMP/forward-selection-[barplot|chng].png\n",
      "INFO:pimp.Importance:Running fanova\n",
      "INFO:pimp.Importance:Setting up Evaluation Method\n",
      "INFO:pimp.Importance:Using model <pimp.epm.base_epm.RandomForestWithInstances object at 0x7fb668c86ca0>\n",
      "INFO:pimp.Importance:X shape (500, 2)\n",
      "INFO:pimp.fANOVA:No marginalization necessary\n",
      "INFO:pimp.fANOVA:Preprocessing X\n",
      "INFO:pimp.fANOVA:01 x2                            : 0.2665\n",
      "INFO:pimp.fANOVA:00 x1                            : 0.1289\n",
      "INFO:pimp.fANOVA:Computing most important pairwise marginals using at most the 2 most important ones.\n",
      "INFO:pimp.fANOVA:-1 x2 <> x1                      : 0.6046\n",
      "INFO:pimp.fANOVA:Getting Marginals!\n",
      "Creating fANOVA plot: x1.png: 100%|##########| 2/2 [00:00<00:00,  4.74it/s]\n",
      "INFO:pimp.fANOVA:Plotting Pairwise-Marginals!\n",
      "INFO:fanova.visualizer.Visualizer:creating PIMP/fanova/x2_x1.png\n",
      "INFO:fanova.visualizer.Visualizer:creating PIMP/fanova/x2_x1.png\n",
      "INFO:pimp.Importance:Running incneighbor\n",
      "INFO:pimp.Importance:Setting up Evaluation Method\n",
      "INFO:pimp.Importance:Using model <pimp.epm.base_epm.RandomForestWithInstances object at 0x7fb668c86ca0>\n",
      "INFO:pimp.Importance:X shape (500, 2)\n",
      "INFO:pimp.LPI:Sampling neighborhood of x1\n",
      "INFO:pimp.LPI:--------------------------------------------------> Found 500 valid neighbors\n",
      "INFO:pimp.LPI:Sampling neighborhood of x2\n",
      "INFO:pimp.LPI:--------------------------------------------------> Found 500 valid neighbors\n",
      "Predicting performances for neighbors of x2: 100%|##########| 1002/1002 [00:00<00:00, 9745.78it/s]\n",
      "Plotting results for x2: 100%|##########| 2/2 [00:00<00:00,  5.24it/s]\n"
     ]
    }
   ],
   "source": [
    "pimp = PIMP(scenario, smac, mode='all')\n",
    "result = pimp.compute_importances()"
   ]
  },
  {
   "cell_type": "code",
   "execution_count": 10,
   "metadata": {
    "scrolled": true
   },
   "outputs": [
    {
     "name": "stderr",
     "output_type": "stream",
     "text": [
      "Plotting results for x2: 100%|##########| 2/2 [00:00<00:00,  6.03it/s]\n"
     ]
    }
   ],
   "source": [
    "%matplotlib inline\n",
    "pimp.plot_results(result=result, show=True, save_table=False)"
   ]
  },
  {
   "cell_type": "code",
   "execution_count": 11,
   "metadata": {},
   "outputs": [
    {
     "name": "stdout",
     "output_type": "stream",
     "text": [
      "(500, 2)\n",
      "None\n"
     ]
    }
   ],
   "source": [
    "import copy\n",
    "\n",
    "X = copy.deepcopy(pimp.imp.model.X)\n",
    "y = copy.deepcopy(pimp.imp.model.y)\n",
    "print(X.shape)\n",
    "print(scenario.feature_array)"
   ]
  },
  {
   "cell_type": "code",
   "execution_count": 12,
   "metadata": {
    "scrolled": false
   },
   "outputs": [
    {
     "name": "stderr",
     "output_type": "stream",
     "text": [
      "INFO:smac.scenario.scenario.Scenario:Reading scenario file: branin_scenario.txt\n",
      "INFO:smac.utils.io.cmd_reader.CMDReader:Output to smac3-output_2021-11-10_14:27:59_900850\n"
     ]
    },
    {
     "ename": "TypeError",
     "evalue": "get_runs_for_config() missing 1 required positional argument: 'only_max_observed_budget'",
     "output_type": "error",
     "traceback": [
      "\u001b[0;31m---------------------------------------------------------------------------\u001b[0m",
      "\u001b[0;31mTypeError\u001b[0m                                 Traceback (most recent call last)",
      "\u001b[0;32m<ipython-input-12-e9b84a654858>\u001b[0m in \u001b[0;36m<module>\u001b[0;34m\u001b[0m\n\u001b[1;32m      1\u001b[0m \u001b[0mget_ipython\u001b[0m\u001b[0;34m(\u001b[0m\u001b[0;34m)\u001b[0m\u001b[0;34m.\u001b[0m\u001b[0mrun_line_magic\u001b[0m\u001b[0;34m(\u001b[0m\u001b[0;34m'matplotlib'\u001b[0m\u001b[0;34m,\u001b[0m \u001b[0;34m'inline'\u001b[0m\u001b[0;34m)\u001b[0m\u001b[0;34m\u001b[0m\u001b[0;34m\u001b[0m\u001b[0m\n\u001b[1;32m      2\u001b[0m \u001b[0mscenario\u001b[0m \u001b[0;34m=\u001b[0m \u001b[0mScenario\u001b[0m\u001b[0;34m(\u001b[0m\u001b[0;34m'branin_scenario.txt'\u001b[0m\u001b[0;34m)\u001b[0m\u001b[0;34m\u001b[0m\u001b[0;34m\u001b[0m\u001b[0m\n\u001b[0;32m----> 3\u001b[0;31m \u001b[0mpimp\u001b[0m \u001b[0;34m=\u001b[0m \u001b[0mPIMP\u001b[0m\u001b[0;34m(\u001b[0m\u001b[0mscenario\u001b[0m\u001b[0;34m,\u001b[0m \u001b[0mX\u001b[0m\u001b[0;34m=\u001b[0m\u001b[0mX\u001b[0m\u001b[0;34m,\u001b[0m \u001b[0my\u001b[0m\u001b[0;34m=\u001b[0m\u001b[0my\u001b[0m\u001b[0;34m,\u001b[0m \u001b[0mmode\u001b[0m\u001b[0;34m=\u001b[0m\u001b[0;34m'all'\u001b[0m\u001b[0;34m)\u001b[0m\u001b[0;34m\u001b[0m\u001b[0;34m\u001b[0m\u001b[0m\n\u001b[0m\u001b[1;32m      4\u001b[0m \u001b[0mprint\u001b[0m\u001b[0;34m(\u001b[0m\u001b[0mpimp\u001b[0m\u001b[0;34m.\u001b[0m\u001b[0mX\u001b[0m\u001b[0;34m.\u001b[0m\u001b[0mshape\u001b[0m\u001b[0;34m)\u001b[0m\u001b[0;34m\u001b[0m\u001b[0;34m\u001b[0m\u001b[0m\n\u001b[1;32m      5\u001b[0m \u001b[0mprint\u001b[0m\u001b[0;34m(\u001b[0m\u001b[0mpimp\u001b[0m\u001b[0;34m.\u001b[0m\u001b[0my\u001b[0m\u001b[0;34m.\u001b[0m\u001b[0mshape\u001b[0m\u001b[0;34m)\u001b[0m\u001b[0;34m\u001b[0m\u001b[0;34m\u001b[0m\u001b[0m\n",
      "\u001b[0;32m~/anaconda3/envs/pimp/lib/python3.9/site-packages/PyImp-1.1.5-py3.9.egg/pimp/pimp.py\u001b[0m in \u001b[0;36m__init__\u001b[0;34m(self, scenario, smac, mode, X, y, numParams, impute, seed, run, max_sample_size, fanova_cut_at_default, fANOVA_pairwise, forwardsel_feat_imp, incn_quant_var, marginalize_away_instances, save_folder)\u001b[0m\n\u001b[1;32m    110\u001b[0m             \u001b[0mbest_\u001b[0m \u001b[0;34m=\u001b[0m \u001b[0;32mNone\u001b[0m  \u001b[0;31m# Determine incumbent according to the best mean cost in the runhistory\u001b[0m\u001b[0;34m\u001b[0m\u001b[0;34m\u001b[0m\u001b[0m\n\u001b[1;32m    111\u001b[0m             \u001b[0;32mfor\u001b[0m \u001b[0mconfig\u001b[0m \u001b[0;32min\u001b[0m \u001b[0mrunHist\u001b[0m\u001b[0;34m.\u001b[0m\u001b[0mconfig_ids\u001b[0m\u001b[0;34m:\u001b[0m\u001b[0;34m\u001b[0m\u001b[0;34m\u001b[0m\u001b[0m\n\u001b[0;32m--> 112\u001b[0;31m                 \u001b[0minst_seed_pairs\u001b[0m \u001b[0;34m=\u001b[0m \u001b[0mrunHist\u001b[0m\u001b[0;34m.\u001b[0m\u001b[0mget_runs_for_config\u001b[0m\u001b[0;34m(\u001b[0m\u001b[0mconfig\u001b[0m\u001b[0;34m)\u001b[0m\u001b[0;34m\u001b[0m\u001b[0;34m\u001b[0m\u001b[0m\n\u001b[0m\u001b[1;32m    113\u001b[0m                 \u001b[0mall_\u001b[0m \u001b[0;34m=\u001b[0m \u001b[0;34m[\u001b[0m\u001b[0;34m]\u001b[0m\u001b[0;34m\u001b[0m\u001b[0;34m\u001b[0m\u001b[0m\n\u001b[1;32m    114\u001b[0m                 \u001b[0;32mfor\u001b[0m \u001b[0minst\u001b[0m\u001b[0;34m,\u001b[0m \u001b[0mseed\u001b[0m \u001b[0;32min\u001b[0m \u001b[0minst_seed_pairs\u001b[0m\u001b[0;34m:\u001b[0m\u001b[0;34m\u001b[0m\u001b[0;34m\u001b[0m\u001b[0m\n",
      "\u001b[0;31mTypeError\u001b[0m: get_runs_for_config() missing 1 required positional argument: 'only_max_observed_budget'"
     ]
    }
   ],
   "source": [
    "%matplotlib inline\n",
    "scenario = Scenario('branin_scenario.txt')\n",
    "pimp = PIMP(scenario, X=X, y=y, mode='all')\n",
    "print(pimp.X.shape)\n",
    "print(pimp.y.shape)\n",
    "result = pimp.compute_importances()\n",
    "pimp.plot_results(result=result, show=True, save_table=False)"
   ]
  }
 ],
 "metadata": {
  "kernelspec": {
   "display_name": "Python 3.7.11 64-bit ('pimp': conda)",
   "language": "python",
   "name": "python3711jvsc74a57bd057ab6b7e6cc3c4047e1ddea66d1841b30e9da8982beb7ee203225224916b8836"
  },
  "language_info": {
   "codemirror_mode": {
    "name": "ipython",
    "version": 3
   },
   "file_extension": ".py",
   "mimetype": "text/x-python",
   "name": "python",
   "nbconvert_exporter": "python",
   "pygments_lexer": "ipython3",
   "version": "3.9.7"
  }
 },
 "nbformat": 4,
 "nbformat_minor": 1
}
